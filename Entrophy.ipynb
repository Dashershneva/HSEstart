{
 "metadata": {
  "name": "",
  "signature": "sha256:5ef771f2738404e0cf62deacf8afe03dade4cdc2b5b94053558da06492e929e3"
 },
 "nbformat": 3,
 "nbformat_minor": 0,
 "worksheets": [
  {
   "cells": [
    {
     "cell_type": "code",
     "collapsed": false,
     "input": [
      "import math"
     ],
     "language": "python",
     "metadata": {},
     "outputs": [],
     "prompt_number": 55
    },
    {
     "cell_type": "code",
     "collapsed": false,
     "input": [
      "def enthropy(text):\n",
      "    letter_dict = {}\n",
      "    with open(text, 'r', encoding=\"utf-8\") as textfile:\n",
      "        data = textfile.read()\n",
      "    for letter in data:\n",
      "        if letter.lower() in letter_dict:\n",
      "            letter_dict[letter.lower()] += 1\n",
      "        else:\n",
      "            letter_dict[letter.lower()] = 1\n",
      "    enthropy = 0\n",
      "    for item in letter_dict:\n",
      "        enthropy = enthropy - letter_dict[item]/len(data) * math.log2(letter_dict[item]/len(data))\n",
      "        #print(item, \": \", letter_dict[item]/len(data))\n",
      "        \n",
      "    return enthropy       \n",
      "    "
     ],
     "language": "python",
     "metadata": {},
     "outputs": [],
     "prompt_number": 58
    },
    {
     "cell_type": "code",
     "collapsed": false,
     "input": [
      "def main():\n",
      "    text = \"C:\\\\Users\\\\student\\\\Desktop\\\\pigeon.txt\"\n",
      "    text_russian = \"C:\\\\Users\\\\student\\\\Desktop\\\\russian_text.txt\"\n",
      "    enthropy(text)\n",
      "    print(enthropy(text))\n",
      "    print(enthropy(text_russian))\n",
      "\n",
      "if __name__ == '__main__':\n",
      "    main()"
     ],
     "language": "python",
     "metadata": {},
     "outputs": [
      {
       "output_type": "stream",
       "stream": "stdout",
       "text": [
        "4.258338787465323\n",
        "4.598217530108928\n"
       ]
      }
     ],
     "prompt_number": 60
    },
    {
     "cell_type": "code",
     "collapsed": false,
     "input": [],
     "language": "python",
     "metadata": {},
     "outputs": []
    }
   ],
   "metadata": {}
  }
 ]
}