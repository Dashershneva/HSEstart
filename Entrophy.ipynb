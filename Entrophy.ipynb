{
 "metadata": {
  "name": "",
  "signature": "sha256:3e83381c97f549098d828066a4ef2b18503e49ece4d5d76aeb5a525f483e111b"
 },
 "nbformat": 3,
 "nbformat_minor": 0,
 "worksheets": [
  {
   "cells": [
    {
     "cell_type": "code",
     "collapsed": false,
     "input": [
      "import math\n",
      "import random"
     ],
     "language": "python",
     "metadata": {},
     "outputs": [],
     "prompt_number": 65
    },
    {
     "cell_type": "code",
     "collapsed": false,
     "input": [
      "def enthropy(text):\n",
      "    letter_dict = {}\n",
      "    dict_p = {}\n",
      "    with open(text, 'r', encoding=\"utf-8\") as textfile:\n",
      "        data = textfile.read()\n",
      "    for letter in data:\n",
      "        if letter.lower() in letter_dict:\n",
      "            letter_dict[letter.lower()] += 1\n",
      "        else:\n",
      "            letter_dict[letter.lower()] = 1\n",
      "    enthropy = 0\n",
      "    for item in letter_dict:\n",
      "        dict_p[item] = round(letter_dict[item]/len(data), 3)\n",
      "        enthropy = enthropy - letter_dict[item]/len(data) * math.log2(letter_dict[item]/len(data))\n",
      "        \n",
      "    #print(dict_p))\n",
      "    print(sorted(dict_p.items(),key=lambda x:x[1],reverse=True))\n",
      "        \n",
      "    return enthropy       \n",
      "    "
     ],
     "language": "python",
     "metadata": {},
     "outputs": [],
     "prompt_number": 107
    },
    {
     "cell_type": "code",
     "collapsed": false,
     "input": [
      "def main():\n",
      "    text = \"C:\\\\Users\\\\student\\\\Desktop\\\\pigeon.txt\"\n",
      "    text_russian = \"C:\\\\Users\\\\student\\\\Desktop\\\\russian_text.txt\"\n",
      "    enthropy(text)\n",
      "    #print(enthropy(text))\n",
      "    #print(enthropy(text_russian))\n",
      "\n",
      "if __name__ == '__main__':\n",
      "    main()"
     ],
     "language": "python",
     "metadata": {},
     "outputs": [
      {
       "output_type": "stream",
       "stream": "stdout",
       "text": [
        "[(' ', 0.175), ('e', 0.101), ('i', 0.071), ('t', 0.07), ('a', 0.066), ('n', 0.062), ('s', 0.054), ('o', 0.052), ('r', 0.042), ('h', 0.038), ('d', 0.036), ('l', 0.03), ('c', 0.025), ('p', 0.022), ('g', 0.02), ('u', 0.015), ('b', 0.015), ('m', 0.014), ('w', 0.014), ('f', 0.012), ('y', 0.012), ('v', 0.011), (',', 0.01), ('.', 0.008), ('k', 0.005), ('2', 0.003), ('x', 0.003), ('(', 0.002), (')', 0.002), ('0', 0.002), ('1', 0.002), ('8', 0.002), ('3', 0.001), ('4', 0.001), ('5', 0.001), ('9', 0.001), ('7', 0.001), ('\\ufeff', 0.001), ('j', 0.001), ('-', 0.001)]\n"
       ]
      }
     ],
     "prompt_number": 108
    },
    {
     "cell_type": "code",
     "collapsed": false,
     "input": [],
     "language": "python",
     "metadata": {},
     "outputs": []
    }
   ],
   "metadata": {}
  }
 ]
}